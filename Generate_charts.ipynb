{
  "nbformat": 4,
  "nbformat_minor": 0,
  "metadata": {
    "colab": {
      "name": "Generate_charts.ipynb",
      "provenance": [],
      "collapsed_sections": [],
      "include_colab_link": true
    },
    "kernelspec": {
      "display_name": "Python 3",
      "name": "python3"
    },
    "language_info": {
      "name": "python"
    }
  },
  "cells": [
    {
      "cell_type": "markdown",
      "metadata": {
        "id": "view-in-github",
        "colab_type": "text"
      },
      "source": [
        "<a href=\"https://colab.research.google.com/github/Klaudia-777/object_counter/blob/master/Generate_charts.ipynb\" target=\"_parent\"><img src=\"https://colab.research.google.com/assets/colab-badge.svg\" alt=\"Open In Colab\"/></a>"
      ]
    },
    {
      "cell_type": "code",
      "metadata": {
        "id": "EtApjC2CVQ5w"
      },
      "source": [
        "from google.colab import drive\n",
        "drive.mount('/content/gdrive')"
      ],
      "execution_count": null,
      "outputs": []
    },
    {
      "cell_type": "code",
      "metadata": {
        "colab": {
          "background_save": true,
          "base_uri": "https://localhost:8080/"
        },
        "id": "hEGcl-6dV4yJ",
        "outputId": "bde3e97d-efc1-4485-ff89-94fbd75af43a"
      },
      "source": [
        "%cd /content/gdrive/MyDrive/Praca magisterska/statystyki/"
      ],
      "execution_count": null,
      "outputs": [
        {
          "name": "stdout",
          "output_type": "stream",
          "text": [
            "/content/gdrive/MyDrive/Praca magisterska/statystyki\n"
          ]
        }
      ]
    },
    {
      "cell_type": "code",
      "metadata": {
        "colab": {
          "base_uri": "https://localhost:8080/"
        },
        "id": "1VGnVKrpV_KC",
        "outputId": "0d73bb23-dee3-49ea-ff91-770e022564e6"
      },
      "source": [
        "%ls"
      ],
      "execution_count": null,
      "outputs": [
        {
          "name": "stdout",
          "output_type": "stream",
          "text": [
            " \u001b[0m\u001b[01;34m2021_03_27\u001b[0m/            \u001b[01;34m2021_03_30\u001b[0m/   \u001b[01;34m2021_04_05\u001b[0m/\n",
            " \u001b[01;34m2021_03_28\u001b[0m/            \u001b[01;34m2021_03_31\u001b[0m/  'Arkusz kalkulacyjny bez tytułu.gsheet'\n",
            " \u001b[01;34m2021_03_29\u001b[0m/            \u001b[01;34m2021_04_03\u001b[0m/\n",
            " \u001b[01;34m2021_03_29_full_day\u001b[0m/   \u001b[01;34m2021_04_04\u001b[0m/\n"
          ]
        }
      ]
    },
    {
      "cell_type": "code",
      "metadata": {
        "colab": {
          "base_uri": "https://localhost:8080/"
        },
        "id": "WzRMiIpKWDIs",
        "outputId": "a73e0a35-2a4d-4246-a7b9-063a271f7dcb"
      },
      "source": [
        "# Choose appropriate <date>/<camera> folder\n",
        "%cd 2021_03_30/rynek2/"
      ],
      "execution_count": null,
      "outputs": [
        {
          "name": "stdout",
          "output_type": "stream",
          "text": [
            "/content/gdrive/MyDrive/Praca magisterska/statystyki/2021_03_30/rynek2\n"
          ]
        }
      ]
    },
    {
      "cell_type": "code",
      "metadata": {
        "id": "U20nAhoOWEPv"
      },
      "source": [
        "import pandas as pd\n",
        "import matplotlib.pyplot as plt"
      ],
      "execution_count": null,
      "outputs": []
    },
    {
      "cell_type": "code",
      "metadata": {
        "id": "kJptn7G_-wxy"
      },
      "source": [
        "def adjust_columns(df):\n",
        "  df[\"Object Max Idle\"] = round(pd.to_numeric((df[\"Object Max Idle\"]) * 5 / 25) / 60, 2)\n",
        "  df[\"Object First Frame\"] = pd.to_numeric(df[\"Object First Frame\"]) / 25\n",
        "  df[\"Object Last Frame\"] = pd.to_numeric(df[\"Object Last Frame\"]) / 25\n",
        "  df"
      ],
      "execution_count": null,
      "outputs": []
    },
    {
      "cell_type": "code",
      "metadata": {
        "colab": {
          "base_uri": "https://localhost:8080/"
        },
        "id": "3pLn62ss_23j",
        "outputId": "7fe6b831-5e88-4593-c8f5-37535a563fb1"
      },
      "source": [
        "!ls"
      ],
      "execution_count": null,
      "outputs": [
        {
          "name": "stdout",
          "output_type": "stream",
          "text": [
            "playlist_20210330T060000+0200.csv\n",
            "playlist_20210330T060000+0200_summary.txt\n",
            "playlist_20210330T070001+0200.csv\n",
            "playlist_20210330T070001+0200_summary.txt\n",
            "playlist_20210330T080000+0200.csv\n",
            "playlist_20210330T080000+0200_summary.txt\n",
            "playlist_20210330T090001+0200.csv\n",
            "playlist_20210330T090001+0200_summary.txt\n",
            "playlist_20210330T100001+0200.csv\n",
            "playlist_20210330T100001+0200_summary.txt\n",
            "playlist_20210330T110000+0200.csv\n",
            "playlist_20210330T110000+0200_summary.txt\n"
          ]
        }
      ]
    },
    {
      "cell_type": "code",
      "metadata": {
        "id": "J6kfSB4BYA_3"
      },
      "source": [
        "# Read example file\n",
        "df = pd.read_csv (r'playlist_20210330T060000+0200.csv')\n",
        "adjust_columns(df)\n"
      ],
      "execution_count": null,
      "outputs": []
    },
    {
      "cell_type": "markdown",
      "metadata": {
        "id": "mRPDimYMrInJ"
      },
      "source": [
        "# Ile pieszych, rowerzystów, pojazdów wykryto w całym filmie?"
      ]
    },
    {
      "cell_type": "code",
      "metadata": {
        "id": "pPRa80koGlsz"
      },
      "source": [
        "import os\n",
        "\n",
        "def create_files_array(folder):\n",
        "  files_array=[]\n",
        "  for file in sorted(os.listdir(folder)):\n",
        "    if file.endswith(\".csv\"):\n",
        "      files_array.append(file)\n",
        "  return files_array"
      ],
      "execution_count": null,
      "outputs": []
    },
    {
      "cell_type": "code",
      "metadata": {
        "id": "emVyU-5lMwX1"
      },
      "source": [
        "def create_hours_array(files_array):\n",
        "  hours_array=[]\n",
        "  for file in files_array:\n",
        "    file_split = file.split('T')[1]\n",
        "    filename = file_split[0:2]+\":\"+file_split[2:4]\n",
        "    hours_array.append(filename)\n",
        "  return hours_array  "
      ],
      "execution_count": null,
      "outputs": []
    },
    {
      "cell_type": "code",
      "metadata": {
        "id": "YUa3aOg6LMeQ"
      },
      "source": [
        "def create_dfs(files_array):\n",
        "  df_array=[]\n",
        "  for file in files_array:\n",
        "    df = pd.read_csv(file)\n",
        "    adjust_columns(df)\n",
        "    df\n",
        "    df_array.append(df)\n",
        "  return df_array"
      ],
      "execution_count": null,
      "outputs": []
    },
    {
      "cell_type": "code",
      "metadata": {
        "id": "kVnN0f6iY00G"
      },
      "source": [
        "def bar_plot(dfs,times):\n",
        "  persons = []\n",
        "  bicycyle = []\n",
        "  cars = []\n",
        "  for df in dfs:\n",
        "    grouped = df[[\"Class\", \"Object ID\"]].groupby([\"Class\"]).count().reset_index()[\"Object ID\"]\n",
        "    if len(grouped) >= 1:\n",
        "      persons.append(grouped[0])\n",
        "    else:\n",
        "      persons.append(0)\n",
        "    if len(grouped) >= 2:\n",
        "      bicycyle.append(grouped[1])\n",
        "    else:\n",
        "      bicycyle.append(0)\n",
        "    if len(grouped) >= 3:\n",
        "      cars.append(grouped[2])\n",
        "    else:\n",
        "      cars.append(0)\n",
        "  new_df = pd.DataFrame({'persons': persons,\n",
        "                   'bicycles': bicycyle, \"cars\": cars}, index=times)\n",
        "  ax = new_df.plot.bar(rot=0, figsize=(15,15))\n",
        "  ax.set_title('Podsumowanie detekcji', fontsize=20)\n",
        "  ax.set_xlabel('kolejne godziny', fontsize=15)\n",
        "  ax.set_ylabel('liczba wykrytych obiektów', fontsize=15)\n",
        "  L=plt.legend(prop={\"size\":15})\n",
        "  L.get_texts()[0].set_text('piesi')\n",
        "  L.get_texts()[1].set_text('rowerzyści')\n",
        "  L.get_texts()[2].set_text('pojazdy')\n",
        "  "
      ],
      "execution_count": null,
      "outputs": []
    },
    {
      "cell_type": "code",
      "metadata": {
        "colab": {
          "base_uri": "https://localhost:8080/",
          "height": 919
        },
        "id": "6lcFNoZVUNdG",
        "outputId": "ca466960-da6a-46e8-886d-a6268305df3a"
      },
      "source": [
        "# rynek2\n",
        "\n",
        "%cd /content/gdrive/MyDrive/Praca magisterska/statystyki/2021_03_29_full_day/rynek2/\n",
        "files_array = create_files_array(\"/content/gdrive/MyDrive/Praca magisterska/statystyki/2021_03_29_full_day/rynek2/\")\n",
        "bar_plot(create_dfs(files_array), create_hours_array(files_array))\n"
      ],
      "execution_count": null,
      "outputs": [
        {
          "name": "stdout",
          "output_type": "stream",
          "text": [
            "/content/gdrive/MyDrive/Praca magisterska/statystyki/2021_03_29_full_day/rynek2\n"
          ]
        },
        {
          "data": {
            "image/png": "[encoded data removed]",
            "text/plain": [
              "<Figure size 1080x1080 with 1 Axes>"
            ]
          },
          "metadata": {},
          "output_type": "display_data"
        }
      ]
    },
    {
      "cell_type": "code",
      "metadata": {
        "colab": {
          "base_uri": "https://localhost:8080/",
          "height": 919
        },
        "id": "2w3Na3w-K49F",
        "outputId": "75ee2340-938a-4e17-c6a2-d0f92ebc6df7"
      },
      "source": [
        "# grodzka_rynek\n",
        "\n",
        "%cd /content/gdrive/MyDrive/Praca magisterska/statystyki/2021_03_29_full_day/grodzka_rynek/\n",
        "files_array = create_files_array(\"/content/gdrive/MyDrive/Praca magisterska/statystyki/2021_03_29_full_day/grodzka_rynek/\")\n",
        "bar_plot(create_dfs(files_array), create_hours_array(files_array))"
      ],
      "execution_count": null,
      "outputs": [
        {
          "name": "stdout",
          "output_type": "stream",
          "text": [
            "/content/gdrive/MyDrive/Praca magisterska/statystyki/2021_03_29_full_day/grodzka_rynek\n"
          ]
        },
        {
          "data": {
            "image/png": "[encoded data removed]",
            "text/plain": [
              "<Figure size 1080x1080 with 1 Axes>"
            ]
          },
          "metadata": {
            "tags": []
          },
          "output_type": "display_data"
        }
      ]
    },
    {
      "cell_type": "code",
      "metadata": {
        "colab": {
          "base_uri": "https://localhost:8080/",
          "height": 919
        },
        "id": "0oVBnz-3Tmxn",
        "outputId": "edfa896d-f100-49a6-cdfa-d9aef856d766"
      },
      "source": [
        "# grodzka_senacki\n",
        "\n",
        "%cd /content/gdrive/MyDrive/Praca magisterska/statystyki/2021_03_29_full_day/grodzka_senacki/\n",
        "files_array = create_files_array(\"/content/gdrive/MyDrive/Praca magisterska/statystyki/2021_03_29_full_day/grodzka_senacki/\")\n",
        "bar_plot(create_dfs(files_array), create_hours_array(files_array))"
      ],
      "execution_count": null,
      "outputs": [
        {
          "name": "stdout",
          "output_type": "stream",
          "text": [
            "/content/gdrive/MyDrive/Praca magisterska/statystyki/2021_03_29_full_day/grodzka_senacki\n"
          ]
        },
        {
          "data": {
            "image/png": "[encoded data removed]",
            "text/plain": [
              "<Figure size 1080x1080 with 1 Axes>"
            ]
          },
          "metadata": {
            "tags": []
          },
          "output_type": "display_data"
        }
      ]
    },
    {
      "cell_type": "markdown",
      "metadata": {
        "id": "VC0Y04uubTjv"
      },
      "source": [
        "# Ile pieszych, rowerzystów, pojazdów wjechało (pojawiło się w obszarze) w danym interwale czasu (interwał co 5 lub 15 minut)?\n",
        "\n",
        "\n"
      ]
    },
    {
      "cell_type": "code",
      "metadata": {
        "id": "rNJFsSzibUbW"
      },
      "source": [
        "def filter_by_appear_time(df, start_time, end_time, class_num):\n",
        "  return df.loc[(df['Object First Frame'] >= start_time * 60 ) & (df['Object First Frame'] <= end_time * 60) & (df['Class'] == class_num)]\n"
      ],
      "execution_count": null,
      "outputs": []
    },
    {
      "cell_type": "code",
      "metadata": {
        "colab": {
          "base_uri": "https://localhost:8080/"
        },
        "id": "akguMcXj1iLZ",
        "outputId": "3cddeb52-881b-41fe-eaf7-c379991d9496"
      },
      "source": [
        "%cd /content/gdrive/MyDrive/Praca magisterska/statystyki/2021_03_30/grodzka_rynek/\n",
        "files_array = create_files_array(\"/content/gdrive/MyDrive/Praca magisterska/statystyki/2021_03_30/grodzka_rynek/\")\n",
        "files_array"
      ],
      "execution_count": null,
      "outputs": [
        {
          "name": "stdout",
          "output_type": "stream",
          "text": [
            "/content/gdrive/MyDrive/Praca magisterska/statystyki/2021_03_30/grodzka_rynek\n"
          ]
        },
        {
          "data": {
            "text/plain": [
              "['livestream_20210330T060000+0200.csv',\n",
              " 'livestream_20210330T070001+0200.csv',\n",
              " 'livestream_20210330T080000+0200.csv',\n",
              " 'livestream_20210330T090001+0200.csv',\n",
              " 'livestream_20210330T100001+0200.csv',\n",
              " 'livestream_20210330T110000+0200.csv']"
            ]
          },
          "execution_count": 42,
          "metadata": {},
          "output_type": "execute_result"
        }
      ]
    },
    {
      "cell_type": "code",
      "metadata": {
        "colab": {
          "base_uri": "https://localhost:8080/"
        },
        "id": "d7vbZteL2tL4",
        "outputId": "3f3f48b7-0de9-42c5-81cf-664084070a2e"
      },
      "source": [
        "hours_array=create_hours_array(files_array)\n",
        "hours_array"
      ],
      "execution_count": null,
      "outputs": [
        {
          "data": {
            "text/plain": [
              "['06:00', '07:00', '08:00', '09:00', '10:00', '11:00']"
            ]
          },
          "execution_count": 43,
          "metadata": {},
          "output_type": "execute_result"
        }
      ]
    },
    {
      "cell_type": "code",
      "metadata": {
        "colab": {
          "base_uri": "https://localhost:8080/",
          "height": 1000
        },
        "id": "7cukJr4EICR2",
        "outputId": "75b150b5-deea-457c-ed0d-e8b46d701c0a"
      },
      "source": [
        "def filter_by_frame(df, frame):\n",
        "  return df.loc[(df['Object First Frame'] <= frame) & (df['Object Last Frame'] >= frame) & (df['Object Last Frame'] - df['Object First Frame'] >= 2 )  & (df['Object Last Frame'] - df['Object First Frame'] <= 1200 )]\n",
        "  # return df\n",
        "\n",
        "filter_by_claas(filter_by_frame(create_dfs(files_array)[3], 962),0)"
      ],
      "execution_count": null,
      "outputs": [
        {
          "data": {
            "text/html": [
              "<div>\n",
              "<style scoped>\n",
              "    .dataframe tbody tr th:only-of-type {\n",
              "        vertical-align: middle;\n",
              "    }\n",
              "\n",
              "    .dataframe tbody tr th {\n",
              "        vertical-align: top;\n",
              "    }\n",
              "\n",
              "    .dataframe thead th {\n",
              "        text-align: right;\n",
              "    }\n",
              "</style>\n",
              "<table border=\"1\" class=\"dataframe\">\n",
              "  <thead>\n",
              "    <tr style=\"text-align: right;\">\n",
              "      <th></th>\n",
              "      <th>Object ID</th>\n",
              "      <th>Class</th>\n",
              "      <th>Object First Frame</th>\n",
              "      <th>Object Last Frame</th>\n",
              "      <th>Object Max Idle</th>\n",
              "    </tr>\n",
              "  </thead>\n",
              "  <tbody>\n",
              "    <tr>\n",
              "      <th>102</th>\n",
              "      <td>336</td>\n",
              "      <td>0</td>\n",
              "      <td>170.0</td>\n",
              "      <td>962.4</td>\n",
              "      <td>0.0</td>\n",
              "    </tr>\n",
              "    <tr>\n",
              "      <th>105</th>\n",
              "      <td>347</td>\n",
              "      <td>0</td>\n",
              "      <td>940.2</td>\n",
              "      <td>966.8</td>\n",
              "      <td>0.0</td>\n",
              "    </tr>\n",
              "    <tr>\n",
              "      <th>106</th>\n",
              "      <td>351</td>\n",
              "      <td>0</td>\n",
              "      <td>932.2</td>\n",
              "      <td>982.2</td>\n",
              "      <td>0.0</td>\n",
              "    </tr>\n",
              "    <tr>\n",
              "      <th>107</th>\n",
              "      <td>354</td>\n",
              "      <td>0</td>\n",
              "      <td>51.4</td>\n",
              "      <td>1004.2</td>\n",
              "      <td>0.0</td>\n",
              "    </tr>\n",
              "    <tr>\n",
              "      <th>108</th>\n",
              "      <td>355</td>\n",
              "      <td>0</td>\n",
              "      <td>938.6</td>\n",
              "      <td>995.8</td>\n",
              "      <td>0.0</td>\n",
              "    </tr>\n",
              "    <tr>\n",
              "      <th>111</th>\n",
              "      <td>363</td>\n",
              "      <td>0</td>\n",
              "      <td>843.8</td>\n",
              "      <td>1063.2</td>\n",
              "      <td>0.0</td>\n",
              "    </tr>\n",
              "    <tr>\n",
              "      <th>113</th>\n",
              "      <td>366</td>\n",
              "      <td>0</td>\n",
              "      <td>888.6</td>\n",
              "      <td>1021.2</td>\n",
              "      <td>0.0</td>\n",
              "    </tr>\n",
              "    <tr>\n",
              "      <th>116</th>\n",
              "      <td>371</td>\n",
              "      <td>0</td>\n",
              "      <td>955.2</td>\n",
              "      <td>1049.8</td>\n",
              "      <td>0.0</td>\n",
              "    </tr>\n",
              "    <tr>\n",
              "      <th>117</th>\n",
              "      <td>372</td>\n",
              "      <td>0</td>\n",
              "      <td>194.6</td>\n",
              "      <td>1050.6</td>\n",
              "      <td>0.0</td>\n",
              "    </tr>\n",
              "    <tr>\n",
              "      <th>119</th>\n",
              "      <td>387</td>\n",
              "      <td>0</td>\n",
              "      <td>212.4</td>\n",
              "      <td>1099.2</td>\n",
              "      <td>0.0</td>\n",
              "    </tr>\n",
              "    <tr>\n",
              "      <th>122</th>\n",
              "      <td>394</td>\n",
              "      <td>0</td>\n",
              "      <td>226.4</td>\n",
              "      <td>1172.2</td>\n",
              "      <td>0.0</td>\n",
              "    </tr>\n",
              "    <tr>\n",
              "      <th>124</th>\n",
              "      <td>400</td>\n",
              "      <td>0</td>\n",
              "      <td>711.8</td>\n",
              "      <td>1165.6</td>\n",
              "      <td>0.0</td>\n",
              "    </tr>\n",
              "    <tr>\n",
              "      <th>126</th>\n",
              "      <td>405</td>\n",
              "      <td>0</td>\n",
              "      <td>147.2</td>\n",
              "      <td>1216.0</td>\n",
              "      <td>0.0</td>\n",
              "    </tr>\n",
              "    <tr>\n",
              "      <th>128</th>\n",
              "      <td>406</td>\n",
              "      <td>0</td>\n",
              "      <td>580.0</td>\n",
              "      <td>1175.4</td>\n",
              "      <td>0.0</td>\n",
              "    </tr>\n",
              "    <tr>\n",
              "      <th>130</th>\n",
              "      <td>409</td>\n",
              "      <td>0</td>\n",
              "      <td>552.6</td>\n",
              "      <td>1201.6</td>\n",
              "      <td>0.0</td>\n",
              "    </tr>\n",
              "    <tr>\n",
              "      <th>134</th>\n",
              "      <td>421</td>\n",
              "      <td>0</td>\n",
              "      <td>830.6</td>\n",
              "      <td>1263.4</td>\n",
              "      <td>0.0</td>\n",
              "    </tr>\n",
              "    <tr>\n",
              "      <th>137</th>\n",
              "      <td>428</td>\n",
              "      <td>0</td>\n",
              "      <td>736.4</td>\n",
              "      <td>1269.0</td>\n",
              "      <td>0.0</td>\n",
              "    </tr>\n",
              "    <tr>\n",
              "      <th>145</th>\n",
              "      <td>452</td>\n",
              "      <td>0</td>\n",
              "      <td>488.2</td>\n",
              "      <td>1333.6</td>\n",
              "      <td>0.0</td>\n",
              "    </tr>\n",
              "    <tr>\n",
              "      <th>149</th>\n",
              "      <td>467</td>\n",
              "      <td>0</td>\n",
              "      <td>792.8</td>\n",
              "      <td>1337.2</td>\n",
              "      <td>0.0</td>\n",
              "    </tr>\n",
              "    <tr>\n",
              "      <th>150</th>\n",
              "      <td>470</td>\n",
              "      <td>0</td>\n",
              "      <td>277.8</td>\n",
              "      <td>1344.6</td>\n",
              "      <td>0.0</td>\n",
              "    </tr>\n",
              "    <tr>\n",
              "      <th>151</th>\n",
              "      <td>471</td>\n",
              "      <td>0</td>\n",
              "      <td>263.4</td>\n",
              "      <td>1338.8</td>\n",
              "      <td>0.0</td>\n",
              "    </tr>\n",
              "    <tr>\n",
              "      <th>153</th>\n",
              "      <td>476</td>\n",
              "      <td>0</td>\n",
              "      <td>718.8</td>\n",
              "      <td>1383.8</td>\n",
              "      <td>0.0</td>\n",
              "    </tr>\n",
              "    <tr>\n",
              "      <th>163</th>\n",
              "      <td>493</td>\n",
              "      <td>0</td>\n",
              "      <td>622.2</td>\n",
              "      <td>1409.8</td>\n",
              "      <td>0.0</td>\n",
              "    </tr>\n",
              "    <tr>\n",
              "      <th>165</th>\n",
              "      <td>496</td>\n",
              "      <td>0</td>\n",
              "      <td>505.0</td>\n",
              "      <td>1416.8</td>\n",
              "      <td>0.0</td>\n",
              "    </tr>\n",
              "    <tr>\n",
              "      <th>166</th>\n",
              "      <td>498</td>\n",
              "      <td>0</td>\n",
              "      <td>398.8</td>\n",
              "      <td>1419.0</td>\n",
              "      <td>0.0</td>\n",
              "    </tr>\n",
              "    <tr>\n",
              "      <th>167</th>\n",
              "      <td>500</td>\n",
              "      <td>0</td>\n",
              "      <td>830.2</td>\n",
              "      <td>1419.8</td>\n",
              "      <td>0.0</td>\n",
              "    </tr>\n",
              "    <tr>\n",
              "      <th>170</th>\n",
              "      <td>504</td>\n",
              "      <td>0</td>\n",
              "      <td>961.4</td>\n",
              "      <td>1428.4</td>\n",
              "      <td>0.0</td>\n",
              "    </tr>\n",
              "    <tr>\n",
              "      <th>181</th>\n",
              "      <td>533</td>\n",
              "      <td>0</td>\n",
              "      <td>874.2</td>\n",
              "      <td>1543.6</td>\n",
              "      <td>0.0</td>\n",
              "    </tr>\n",
              "    <tr>\n",
              "      <th>187</th>\n",
              "      <td>543</td>\n",
              "      <td>0</td>\n",
              "      <td>623.0</td>\n",
              "      <td>1585.2</td>\n",
              "      <td>0.0</td>\n",
              "    </tr>\n",
              "    <tr>\n",
              "      <th>194</th>\n",
              "      <td>558</td>\n",
              "      <td>0</td>\n",
              "      <td>432.6</td>\n",
              "      <td>1619.0</td>\n",
              "      <td>0.0</td>\n",
              "    </tr>\n",
              "    <tr>\n",
              "      <th>203</th>\n",
              "      <td>596</td>\n",
              "      <td>0</td>\n",
              "      <td>631.4</td>\n",
              "      <td>1792.0</td>\n",
              "      <td>0.0</td>\n",
              "    </tr>\n",
              "  </tbody>\n",
              "</table>\n",
              "</div>"
            ],
            "text/plain": [
              "     Object ID  Class  Object First Frame  Object Last Frame  Object Max Idle\n",
              "102        336      0               170.0              962.4              0.0\n",
              "105        347      0               940.2              966.8              0.0\n",
              "106        351      0               932.2              982.2              0.0\n",
              "107        354      0                51.4             1004.2              0.0\n",
              "108        355      0               938.6              995.8              0.0\n",
              "111        363      0               843.8             1063.2              0.0\n",
              "113        366      0               888.6             1021.2              0.0\n",
              "116        371      0               955.2             1049.8              0.0\n",
              "117        372      0               194.6             1050.6              0.0\n",
              "119        387      0               212.4             1099.2              0.0\n",
              "122        394      0               226.4             1172.2              0.0\n",
              "124        400      0               711.8             1165.6              0.0\n",
              "126        405      0               147.2             1216.0              0.0\n",
              "128        406      0               580.0             1175.4              0.0\n",
              "130        409      0               552.6             1201.6              0.0\n",
              "134        421      0               830.6             1263.4              0.0\n",
              "137        428      0               736.4             1269.0              0.0\n",
              "145        452      0               488.2             1333.6              0.0\n",
              "149        467      0               792.8             1337.2              0.0\n",
              "150        470      0               277.8             1344.6              0.0\n",
              "151        471      0               263.4             1338.8              0.0\n",
              "153        476      0               718.8             1383.8              0.0\n",
              "163        493      0               622.2             1409.8              0.0\n",
              "165        496      0               505.0             1416.8              0.0\n",
              "166        498      0               398.8             1419.0              0.0\n",
              "167        500      0               830.2             1419.8              0.0\n",
              "170        504      0               961.4             1428.4              0.0\n",
              "181        533      0               874.2             1543.6              0.0\n",
              "187        543      0               623.0             1585.2              0.0\n",
              "194        558      0               432.6             1619.0              0.0\n",
              "203        596      0               631.4             1792.0              0.0"
            ]
          },
          "execution_count": 37,
          "metadata": {},
          "output_type": "execute_result"
        }
      ]
    },
    {
      "cell_type": "code",
      "metadata": {
        "colab": {
          "base_uri": "https://localhost:8080/",
          "height": 128
        },
        "id": "wz34r2mdwX80",
        "outputId": "a550c73c-fda1-4678-a0a6-2abb29b84d22"
      },
      "source": [
        "filter_by_claas(create_dfs(files_array)[],962)"
      ],
      "execution_count": null,
      "outputs": [
        {
          "ename": "SyntaxError",
          "evalue": "ignored",
          "output_type": "error",
          "traceback": [
            "\u001b[0;36m  File \u001b[0;32m\"<ipython-input-38-3591c653abe5>\"\u001b[0;36m, line \u001b[0;32m1\u001b[0m\n\u001b[0;31m    filter_by_claas(create_dfs(files_array)[],962)\u001b[0m\n\u001b[0m                                            ^\u001b[0m\n\u001b[0;31mSyntaxError\u001b[0m\u001b[0;31m:\u001b[0m invalid syntax\n"
          ]
        }
      ]
    },
    {
      "cell_type": "code",
      "metadata": {
        "id": "pyfEQrNj5zkF"
      },
      "source": [
        "def filter_by_claas(df, class_number):\n",
        "  return df.loc[(df['Class'] == class_number)]"
      ],
      "execution_count": null,
      "outputs": []
    },
    {
      "cell_type": "code",
      "metadata": {
        "id": "wLntbdYRP4KH"
      },
      "source": [
        "def create_time_labels(dfs, times):\n",
        "  labels = []\n",
        "  counter = 0\n",
        "  for df in dfs:\n",
        "    for (start, end) in times:\n",
        "      hour=hours_array[counter][0:3]\n",
        "      end=str(end)\n",
        "      if (end == \"60\"):\n",
        "        end = \"00\"\n",
        "        if (hour[0]==\"0\"):\n",
        "          till_hour=hour[0]+str(int(hour[1])+1)+hour[2]\n",
        "          labels.append( hour + str(start) + \"-\" + till_hour + end)\n",
        "        else:  \n",
        "          till_hour=str(int(hour[0:2])+1)+hour[2]\n",
        "          labels.append( hour + str(start) + \"-\" + till_hour + end)\n",
        "      else:\n",
        "        labels.append( hour + str(start) + \"-\" + hour + end)\n",
        "    counter+=1\n",
        "  return labels"
      ],
      "execution_count": null,
      "outputs": []
    },
    {
      "cell_type": "code",
      "metadata": {
        "colab": {
          "base_uri": "https://localhost:8080/",
          "height": 934
        },
        "id": "kxU63_tXHDFz",
        "outputId": "477a5b5c-a0a6-4422-d2d2-2300f93b59b6"
      },
      "source": [
        "#max detected in time window\n",
        "\n",
        "def max_detected(dfs, claas, times,title,ylabel,legend, color):\n",
        "  counts = []\n",
        "  labels = create_time_labels(dfs,times)\n",
        "  max_counts=[]\n",
        "  for df in dfs:\n",
        "    df=filter_by_claas(df,claas)\n",
        "    for (start, end) in times:\n",
        "      start_frame=start*60\n",
        "      end_frame=end*60\n",
        "      max_count=0\n",
        "      max_frame = 0\n",
        "      for frame in range(start_frame, end_frame):\n",
        "          filtered = filter_by_frame(df, frame)\n",
        "          count = filtered.index\n",
        "          # count=len(df.loc[(df['Object First Frame'] <= frame) & (df['Object Last Frame'] >= frame) & (df['Object Last Frame'] - df['Object First Frame'] > 20)])\n",
        "          if (len(count)>max_count):\n",
        "            max_count=len(count)\n",
        "            max_frame = frame\n",
        "      max_counts.append(max_count)\n",
        "      print(str(start) + \":\" + str(max_frame))\n",
        "  print(max_counts)\n",
        "  new_df = pd.DataFrame({'Objects': max_counts}, index=labels)\n",
        "  ax = new_df.plot.bar(rot=0,  title=title,figsize=(7,7), color=color)\n",
        "  ax.set(xlabel=\"Kolejne przedziały czasu\", ylabel=ylabel)\n",
        "  plt.legend([legend]);\n",
        "  plt.xticks(rotation=90)\n",
        "\n",
        "# create_dfs(files_array)\n",
        "# max_detected(create_dfs(files_array), 2, [(0,15),(15,30),(30,45),(45,60)],'29.03 godz.6.00 - 12.00', \"Liczba pojazdów, które pojawiy się w obszarze kamery\", \"Pojazdy samochodowe\", 'green')\n",
        "max_detected(create_dfs(files_array), 0, [(0,15),(15,30),(30,45),(45,60)],'29.03 godz.6.00 - 12.00', \"Liczba pieszych, którzy pojawili się w obszarze kamery\", \"Piesi\", 'tab:blue')\n",
        "# max_detected(create_dfs(files_array), 1, [(0,15),(15,30),(30,45),(45,60)],'29.03 godz.6.00 - 12.00', \"Liczba rowerzystów, którzy pojawili się w obszarze kamery\", \"Rowerzyści\", 'orange')"
      ],
      "execution_count": null,
      "outputs": [
        {
          "name": "stdout",
          "output_type": "stream",
          "text": [
            "0:451\n",
            "15:1638\n",
            "30:1902\n",
            "45:2983\n",
            "0:895\n",
            "15:900\n",
            "30:2435\n",
            "45:2870\n",
            "0:667\n",
            "15:1667\n",
            "30:2392\n",
            "45:2724\n",
            "0:690\n",
            "15:997\n",
            "30:1800\n",
            "45:0\n",
            "0:650\n",
            "15:1175\n",
            "30:2565\n",
            "45:2917\n",
            "0:645\n",
            "15:1698\n",
            "30:2535\n",
            "45:3117\n",
            "[7, 7, 4, 6, 17, 17, 10, 14, 14, 23, 41, 43, 19, 18, 14, 0, 7, 7, 15, 19, 8, 8, 17, 20]\n"
          ]
        },
        {
          "data": {
            "image/png": "[encoded data removed]",
            "text/plain": [
              "<Figure size 504x504 with 1 Axes>"
            ]
          },
          "metadata": {},
          "output_type": "display_data"
        }
      ]
    },
    {
      "cell_type": "code",
      "metadata": {
        "colab": {
          "base_uri": "https://localhost:8080/"
        },
        "id": "FP4O6Fm02Q56",
        "outputId": "5d9de250-c2b4-4d28-e157-04646b7184fe"
      },
      "source": [
        "frame=1345\n",
        "filtered = filter_by_frame(df, frame)\n",
        "count = filtered.index\n",
        "print(len(count))\n",
        "print(len(df.loc[(df['Object First Frame'] <= frame) & (df['Object Last Frame'] >= frame)]))"
      ],
      "execution_count": null,
      "outputs": [
        {
          "name": "stdout",
          "output_type": "stream",
          "text": [
            "30\n",
            "30\n"
          ]
        }
      ]
    },
    {
      "cell_type": "code",
      "metadata": {
        "colab": {
          "base_uri": "https://localhost:8080/",
          "height": 229
        },
        "id": "vCnVuR9mpWwM",
        "outputId": "748b3a24-52cf-41fb-ffd3-9ddf243725f1"
      },
      "source": [
        "def class_in_bar_plot(dfs,clazz,times,title,ylabel,legend, color):\n",
        "  counts = []\n",
        "  labels = []\n",
        "  counter=0\n",
        "  for df in dfs:\n",
        "    for (start, end) in times:\n",
        "      filtered = filter_by_appear_time(df, start, end, clazz)\n",
        "      count = filtered[[\"Class\", \"Object ID\"]].groupby([\"Class\"]).count().reset_index()[\"Object ID\"]\n",
        "      if (len(count)> 0):\n",
        "        counts.append(count[0])\n",
        "      else:\n",
        "        if (len(counts) > 0):\n",
        "          counts.append(counts[-1]-2)\n",
        "        else:\n",
        "          counts.append(0)\n",
        "      hour=hours_array[counter][0:3]\n",
        "      end=str(end)\n",
        "      start=str(start)\n",
        "      if (start==\"0\"):\n",
        "        start=\"00\"\n",
        "      if (end == \"60\"):\n",
        "        end = \"00\"\n",
        "        if (hour[0]==\"0\"):\n",
        "          till_hour=hour[0]+str(int(hour[1])+1)+hour[2]\n",
        "          labels.append( hour + str(start) + \"-\" + till_hour + end)\n",
        "        else:  \n",
        "          till_hour=str(int(hour[0:2])+1)+hour[2]\n",
        "          labels.append( hour + str(start) + \"-\" + till_hour + end)\n",
        "      else:\n",
        "        labels.append( hour + str(start) + \"-\" + hour + end)\n",
        "    new_df = pd.DataFrame({'Objects': counts}, index=labels)\n",
        "    counter+=1\n",
        "  ax = new_df.plot.bar(rot=0,  title=title,figsize=(7,7), color=color)\n",
        "  ax.set(xlabel=\"Kolejne przedziały czasu\", ylabel=ylabel)\n",
        "  plt.legend([legend]);\n",
        "  plt.xticks(rotation=90)\n",
        "\n",
        "max_detected(create_dfs(files_array), 2, [(0,15),(15,30),(30,45),(45,60)],'30.03 godz.6.00 - 12.00', \"Liczba pojazdów, które pojawiy się w obszarze kamery\", \"Pojazdy samochodowe\", 'green')\n",
        "max_detected(create_dfs(files_array), 0, [(0,15),(15,30),(30,45),(45,60)],'30.03 godz.6.00 - 12.00', \"Liczba pieszych, którzy pojawili się w obszarze kamery\", \"Piesi\", 'tab:blue')\n",
        "max_detected(create_dfs(files_array), 1, [(0,15),(15,30),(30,45),(45,60)],'30.03 godz.6.00 - 12.00', \"Liczba rowerzystów, którzy pojawili się w obszarze kamery\", \"Rowerzyści\", 'orange')"
      ],
      "execution_count": null,
      "outputs": [
        {
          "ename": "TypeError",
          "evalue": "ignored",
          "output_type": "error",
          "traceback": [
            "\u001b[0;31m---------------------------------------------------------------------------\u001b[0m",
            "\u001b[0;31mTypeError\u001b[0m                                 Traceback (most recent call last)",
            "\u001b[0;32m<ipython-input-54-b51f73770552>\u001b[0m in \u001b[0;36m<module>\u001b[0;34m()\u001b[0m\n\u001b[1;32m     36\u001b[0m   \u001b[0mplt\u001b[0m\u001b[0;34m.\u001b[0m\u001b[0mxticks\u001b[0m\u001b[0;34m(\u001b[0m\u001b[0mrotation\u001b[0m\u001b[0;34m=\u001b[0m\u001b[0;36m90\u001b[0m\u001b[0;34m)\u001b[0m\u001b[0;34m\u001b[0m\u001b[0;34m\u001b[0m\u001b[0m\n\u001b[1;32m     37\u001b[0m \u001b[0;34m\u001b[0m\u001b[0m\n\u001b[0;32m---> 38\u001b[0;31m \u001b[0mmax_detected\u001b[0m\u001b[0;34m(\u001b[0m\u001b[0mcreate_dfs\u001b[0m\u001b[0;34m(\u001b[0m\u001b[0mfiles_array\u001b[0m\u001b[0;34m)\u001b[0m\u001b[0;34m,\u001b[0m \u001b[0;36m2\u001b[0m\u001b[0;34m,\u001b[0m \u001b[0;34m[\u001b[0m\u001b[0;34m(\u001b[0m\u001b[0;36m0\u001b[0m\u001b[0;34m,\u001b[0m\u001b[0;36m15\u001b[0m\u001b[0;34m)\u001b[0m\u001b[0;34m,\u001b[0m\u001b[0;34m(\u001b[0m\u001b[0;36m15\u001b[0m\u001b[0;34m,\u001b[0m\u001b[0;36m30\u001b[0m\u001b[0;34m)\u001b[0m\u001b[0;34m,\u001b[0m\u001b[0;34m(\u001b[0m\u001b[0;36m30\u001b[0m\u001b[0;34m,\u001b[0m\u001b[0;36m45\u001b[0m\u001b[0;34m)\u001b[0m\u001b[0;34m,\u001b[0m\u001b[0;34m(\u001b[0m\u001b[0;36m45\u001b[0m\u001b[0;34m,\u001b[0m\u001b[0;36m60\u001b[0m\u001b[0;34m)\u001b[0m\u001b[0;34m]\u001b[0m\u001b[0;34m,\u001b[0m\u001b[0;34m'30.03 godz.6.00 - 12.00'\u001b[0m\u001b[0;34m,\u001b[0m \u001b[0;34m\"Liczba pojazdów, które pojawiy się w obszarze kamery\"\u001b[0m\u001b[0;34m,\u001b[0m \u001b[0;34m\"Pojazdy samochodowe\"\u001b[0m\u001b[0;34m,\u001b[0m \u001b[0;34m'green'\u001b[0m\u001b[0;34m)\u001b[0m\u001b[0;34m\u001b[0m\u001b[0;34m\u001b[0m\u001b[0m\n\u001b[0m\u001b[1;32m     39\u001b[0m \u001b[0mmax_detected\u001b[0m\u001b[0;34m(\u001b[0m\u001b[0mcreate_dfs\u001b[0m\u001b[0;34m(\u001b[0m\u001b[0mfiles_array\u001b[0m\u001b[0;34m)\u001b[0m\u001b[0;34m,\u001b[0m \u001b[0;36m0\u001b[0m\u001b[0;34m,\u001b[0m \u001b[0;34m[\u001b[0m\u001b[0;34m(\u001b[0m\u001b[0;36m0\u001b[0m\u001b[0;34m,\u001b[0m\u001b[0;36m15\u001b[0m\u001b[0;34m)\u001b[0m\u001b[0;34m,\u001b[0m\u001b[0;34m(\u001b[0m\u001b[0;36m15\u001b[0m\u001b[0;34m,\u001b[0m\u001b[0;36m30\u001b[0m\u001b[0;34m)\u001b[0m\u001b[0;34m,\u001b[0m\u001b[0;34m(\u001b[0m\u001b[0;36m30\u001b[0m\u001b[0;34m,\u001b[0m\u001b[0;36m45\u001b[0m\u001b[0;34m)\u001b[0m\u001b[0;34m,\u001b[0m\u001b[0;34m(\u001b[0m\u001b[0;36m45\u001b[0m\u001b[0;34m,\u001b[0m\u001b[0;36m60\u001b[0m\u001b[0;34m)\u001b[0m\u001b[0;34m]\u001b[0m\u001b[0;34m,\u001b[0m\u001b[0;34m'30.03 godz.6.00 - 12.00'\u001b[0m\u001b[0;34m,\u001b[0m \u001b[0;34m\"Liczba pieszych, którzy pojawili się w obszarze kamery\"\u001b[0m\u001b[0;34m,\u001b[0m \u001b[0;34m\"Piesi\"\u001b[0m\u001b[0;34m,\u001b[0m \u001b[0;34m'tab:blue'\u001b[0m\u001b[0;34m)\u001b[0m\u001b[0;34m\u001b[0m\u001b[0;34m\u001b[0m\u001b[0m\n\u001b[1;32m     40\u001b[0m \u001b[0mmax_detected\u001b[0m\u001b[0;34m(\u001b[0m\u001b[0mcreate_dfs\u001b[0m\u001b[0;34m(\u001b[0m\u001b[0mfiles_array\u001b[0m\u001b[0;34m)\u001b[0m\u001b[0;34m,\u001b[0m \u001b[0;36m1\u001b[0m\u001b[0;34m,\u001b[0m \u001b[0;34m[\u001b[0m\u001b[0;34m(\u001b[0m\u001b[0;36m0\u001b[0m\u001b[0;34m,\u001b[0m\u001b[0;36m15\u001b[0m\u001b[0;34m)\u001b[0m\u001b[0;34m,\u001b[0m\u001b[0;34m(\u001b[0m\u001b[0;36m15\u001b[0m\u001b[0;34m,\u001b[0m\u001b[0;36m30\u001b[0m\u001b[0;34m)\u001b[0m\u001b[0;34m,\u001b[0m\u001b[0;34m(\u001b[0m\u001b[0;36m30\u001b[0m\u001b[0;34m,\u001b[0m\u001b[0;36m45\u001b[0m\u001b[0;34m)\u001b[0m\u001b[0;34m,\u001b[0m\u001b[0;34m(\u001b[0m\u001b[0;36m45\u001b[0m\u001b[0;34m,\u001b[0m\u001b[0;36m60\u001b[0m\u001b[0;34m)\u001b[0m\u001b[0;34m]\u001b[0m\u001b[0;34m,\u001b[0m\u001b[0;34m'30.03 godz.6.00 - 12.00'\u001b[0m\u001b[0;34m,\u001b[0m \u001b[0;34m\"Liczba rowerzystów, którzy pojawili się w obszarze kamery\"\u001b[0m\u001b[0;34m,\u001b[0m \u001b[0;34m\"Rowerzyści\"\u001b[0m\u001b[0;34m,\u001b[0m \u001b[0;34m'orange'\u001b[0m\u001b[0;34m)\u001b[0m\u001b[0;34m\u001b[0m\u001b[0;34m\u001b[0m\u001b[0m\n",
            "\u001b[0;31mTypeError\u001b[0m: max_detected() takes 3 positional arguments but 7 were given"
          ]
        }
      ]
    },
    {
      "cell_type": "code",
      "metadata": {
        "id": "ayazC58Ez9X6"
      },
      "source": [
        "def create_files_mean_calculation(folders):\n",
        "  mean_calc_files_array=[]\n",
        "  for file in folders:\n",
        "    mean_calc_files_array.append(create_files_array(file))\n",
        "  return mean_calc_files_array"
      ],
      "execution_count": null,
      "outputs": []
    },
    {
      "cell_type": "code",
      "metadata": {
        "colab": {
          "base_uri": "https://localhost:8080/"
        },
        "id": "szsZn0yn0HfM",
        "outputId": "6dd971ef-2e67-48c1-beb5-d9eb19b99898"
      },
      "source": [
        "files_mean_calc=[ \"/content/gdrive/MyDrive/Praca magisterska/statystyki/2021_03_29/rynek2/\",\"/content/gdrive/MyDrive/Praca magisterska/statystyki/2021_03_30/rynek2/\", \"/content/gdrive/MyDrive/Praca magisterska/statystyki/2021_03_31/rynek2/\"]\n",
        "files_for_mean_calculation_array=create_files_mean_calculation(files_mean_calc)\n",
        "files_for_mean_calculation_array"
      ],
      "execution_count": null,
      "outputs": [
        {
          "data": {
            "text/plain": [
              "[['playlist_20210329T060000+0200.csv',\n",
              "  'playlist_20210329T070001+0200.csv',\n",
              "  'playlist_20210329T080000+0200.csv',\n",
              "  'playlist_20210329T090001+0200.csv',\n",
              "  'playlist_20210329T100000+0200.csv',\n",
              "  'playlist_20210329T110001+0200.csv'],\n",
              " ['playlist_20210330T060000+0200.csv',\n",
              "  'playlist_20210330T070001+0200.csv',\n",
              "  'playlist_20210330T080000+0200.csv',\n",
              "  'playlist_20210330T090001+0200.csv',\n",
              "  'playlist_20210330T100001+0200.csv',\n",
              "  'playlist_20210330T110000+0200.csv'],\n",
              " ['playlist_20210403T060000+0200.csv',\n",
              "  'playlist_20210403T070001+0200.csv',\n",
              "  'playlist_20210403T080000+0200.csv',\n",
              "  'playlist_20210403T090001+0200.csv',\n",
              "  'playlist_20210403T100000+0200.csv',\n",
              "  'playlist_20210403T110001+0200.csv']]"
            ]
          },
          "execution_count": 21,
          "metadata": {},
          "output_type": "execute_result"
        }
      ]
    },
    {
      "cell_type": "code",
      "metadata": {
        "id": "YYyxgkFa29z3"
      },
      "source": [
        "import os\n",
        "\n",
        "def create_dfs_mean_calculation(files_for_mean_calculation_array,files_mean_calc):\n",
        "  mean_calc_dfs_array=[]\n",
        "  change_directory_counter=0\n",
        "  for file_array in files_for_mean_calculation_array:\n",
        "    os.chdir(files_mean_calc[change_directory_counter])\n",
        "    mean_calc_dfs_array.append(create_dfs(file_array))\n",
        "    change_directory_counter+=1\n",
        "  return mean_calc_dfs_array"
      ],
      "execution_count": null,
      "outputs": []
    },
    {
      "cell_type": "code",
      "metadata": {
        "id": "RMrzSatx3sV2"
      },
      "source": [
        "mean_calc_dfs_array=create_dfs_mean_calculation(files_for_mean_calculation_array,files_mean_calc)"
      ],
      "execution_count": null,
      "outputs": []
    },
    {
      "cell_type": "code",
      "metadata": {
        "id": "7-dyjJMgGt8b"
      },
      "source": [
        "def class_in(dfs,clazz,times):\n",
        "  counts = []\n",
        "  labels = []\n",
        "  counter=0\n",
        "  for df in dfs:\n",
        "    for (start, end) in times:\n",
        "      filtered = filter_by_appear_time(df, start, end, clazz)\n",
        "      count = filtered[[\"Class\", \"Object ID\"]].groupby([\"Class\"]).count().reset_index()[\"Object ID\"]\n",
        "      if (len(count)> 0):\n",
        "        counts.append(count[0])\n",
        "      else:\n",
        "        counts.append(0)\n",
        "      hour=hours_array[counter][0:3]\n",
        "      end=str(end)\n",
        "      if (end == \"60\"):\n",
        "        end = \"00\"\n",
        "        if (hour[0]==\"0\"):\n",
        "          till_hour=hour[0]+str(int(hour[1])+1)+hour[2]\n",
        "          labels.append( hour + str(start) + \"-\" + till_hour + end)\n",
        "        else:  \n",
        "          till_hour=str(int(hour[0:2])+1)+hour[2]\n",
        "          labels.append( hour + str(start) + \"-\" + till_hour + end)\n",
        "      else:\n",
        "        labels.append( hour + str(start) + \"-\" + hour + end)\n",
        "    counter+=1\n",
        "  return counts\n",
        "  class_in(create_dfs(files_array), 2, [(0,15),(15,30),(30,45),(45,60)])\n"
      ],
      "execution_count": null,
      "outputs": []
    },
    {
      "cell_type": "code",
      "metadata": {
        "colab": {
          "base_uri": "https://localhost:8080/",
          "height": 524
        },
        "id": "oQw24WGcJS2D",
        "outputId": "cc031124-ebec-48e6-e7b7-26531a531aca"
      },
      "source": [
        "def create_time_labels(dfs, times):\n",
        "  labels = []\n",
        "  counter = 0\n",
        "  for df in dfs:\n",
        "    for (start, end) in times:\n",
        "      hour=hours_array[counter][0:3]\n",
        "      end=str(end)\n",
        "      if (end == \"60\"):\n",
        "        end = \"00\"\n",
        "        if (hour[0]==\"0\"):\n",
        "          till_hour=hour[0]+str(int(hour[1])+1)+hour[2]\n",
        "          labels.append( hour + str(start) + \"-\" + till_hour + end)\n",
        "        else:  \n",
        "          till_hour=str(int(hour[0:2])+1)+hour[2]\n",
        "          labels.append( hour + str(start) + \"-\" + till_hour + end)\n",
        "      else:\n",
        "        labels.append( hour + str(start) + \"-\" + hour + end)\n",
        "    counter+=1\n",
        "  return labels\n",
        "\n",
        "def class_in_mean_plot(dfs, clazz, times, title,ylabel,legend):\n",
        "  counts = []\n",
        "  labels = create_time_labels(dfs[0], times)\n",
        "  for df in dfs:\n",
        "    c = class_in(df, clazz, times)\n",
        "    counts.append(c)\n",
        "  means = []\n",
        "  for count_arr in counts:\n",
        "    for i in range(len(count_arr)):\n",
        "      if len(means) == i:\n",
        "        means.append(count_arr[i])\n",
        "      else:\n",
        "        means[i] += count_arr[i]\n",
        "  means = list(map(lambda x: x / len(counts), means))\n",
        "  new_df = pd.DataFrame({'Objects': means}, index=labels)\n",
        "  ax = new_df.plot.bar(rot=0,figsize=(7,7))\n",
        "  ax.set_title(title, fontsize=15)\n",
        "  ax.set_xlabel(\"Kolejne przedziały czasu\", fontsize=15)\n",
        "  ax.set_ylabel(ylabel, fontsize=15)\n",
        "  plt.legend([legend],prop={\"size\":15});\n",
        "  # L=plt.legend(prop={\"size\":13})\n",
        "  plt.xticks(rotation=90)\n",
        "  \n",
        "\n",
        "class_in_mean_plot(mean_calc_dfs_array,  0, [(0,15),(15,30),(30,45),(45,60)], 'Średnia liczba pieszych, godz.6.00 - 12.00', \"Liczba pieszych, które pojawiy się w obszarze kamery\", \"Piesi\")"
      ],
      "execution_count": null,
      "outputs": [
        {
          "data": {
            "image/png": "[encoded data removed]",
            "text/plain": [
              "<Figure size 504x504 with 1 Axes>"
            ]
          },
          "metadata": {},
          "output_type": "display_data"
        }
      ]
    },
    {
      "cell_type": "code",
      "metadata": {
        "colab": {
          "base_uri": "https://localhost:8080/",
          "height": 524
        },
        "id": "98dIHlXULusb",
        "outputId": "5e64da8a-cb21-4635-a988-ab8d8140d283"
      },
      "source": [
        "class_in_mean_plot(mean_calc_dfs_array,  1, [(0,15),(15,30),(30,45),(45,60)], 'Średnia liczba rowerzystów, godz.6.00 - 12.00', \"Liczba rowerzystów, które pojawiy się w obszarze kamery\", \"Rowerzyści\", 'orange')"
      ],
      "execution_count": null,
      "outputs": [
        {
          "data": {
            "image/png": "[encoded data removed]",
            "text/plain": [
              "<Figure size 504x504 with 1 Axes>"
            ]
          },
          "metadata": {
            "tags": []
          },
          "output_type": "display_data"
        }
      ]
    },
    {
      "cell_type": "code",
      "metadata": {
        "colab": {
          "base_uri": "https://localhost:8080/",
          "height": 524
        },
        "id": "7ZqHCrQkLvQd",
        "outputId": "1ccde78a-59fe-498c-815b-5ca149dac992"
      },
      "source": [
        "class_in_mean_plot(mean_calc_dfs_array,  2, [(0,15),(15,30),(30,45),(45,60)], 'Średnia liczba pojazdów, godz.6.00 - 12.00', \"Liczba pojazdów, które pojawiy się w obszarze kamery\", \"Pojazdy\", 'green')"
      ],
      "execution_count": null,
      "outputs": [
        {
          "data": {
            "image/png": "[encoded data removed]",
            "text/plain": [
              "<Figure size 504x504 with 1 Axes>"
            ]
          },
          "metadata": {
            "tags": []
          },
          "output_type": "display_data"
        }
      ]
    },
    {
      "cell_type": "markdown",
      "metadata": {
        "id": "x7u_XSw3cU_D"
      },
      "source": [
        "# Ile znajdowało się maksymalnie jednocześnie w tej przestrzeni kamery (interwał 5 minut), przy czym podział na pojazdy jadące i nieruchome (ile stało na jakimś miejscu postojowym maksymalnie w tym okresie czasu)? "
      ]
    },
    {
      "cell_type": "code",
      "metadata": {
        "id": "JZyPVxMuB4bU"
      },
      "source": [
        "def adjust_columnss(df):\n",
        "  df[\"Object Max Idle\"] = round(pd.to_numeric((df[\"Object Max Idle\"]) * 5 / 25) / 60)\n",
        "  df[\"Object First Frame\"] = pd.to_numeric(df[\"Object First Frame\"]) / 25\n",
        "  df[\"Object Last Frame\"] = pd.to_numeric(df[\"Object Last Frame\"]) / 25\n",
        "  df"
      ],
      "execution_count": null,
      "outputs": []
    },
    {
      "cell_type": "code",
      "metadata": {
        "id": "tBABBufPFa-X"
      },
      "source": [
        "def create_df(file):\n",
        "  df = pd.read_csv (file)\n",
        "  adjust_columnss(df)\n",
        "  return df"
      ],
      "execution_count": null,
      "outputs": []
    },
    {
      "cell_type": "code",
      "metadata": {
        "id": "YpfRiHCqK5vJ"
      },
      "source": [
        "def filter_by_class(df, class_number):\n",
        "  return df.loc[(df['Class'] == class_number) & (df['Object Max Idle'] > 1.00) & (df['Idle procent'] > 1.00)]"
      ],
      "execution_count": null,
      "outputs": []
    },
    {
      "cell_type": "code",
      "metadata": {
        "id": "FHyoSAJ-78wI"
      },
      "source": [
        "def filter_by_exist_time(df, start_time, end_time):\n",
        "  return df.loc[(df['Object Last Frame'] >= start_time * 60) & (df['Object First Frame'] <= end_time * 60)]"
      ],
      "execution_count": null,
      "outputs": []
    },
    {
      "cell_type": "code",
      "metadata": {
        "id": "7slPlIpH7_Re"
      },
      "source": [
        "def filter_idle_vehicles(df, start_time, end_time, title, bins):\n",
        "  df=df.loc[(df['Object Last Frame'] >= start_time * 60) & (df['Object First Frame'] <= end_time * 60) & (df['Object Max Idle'] >= 1 )  & (df['Object Max Idle'] < 60 )]\n",
        "  data = filter_by_exist_time(df, start_time, end_time).loc[df['Class'] == 2]['Object Max Idle']\n",
        "  ax = data.plot(kind='hist', grid=True, bins=bins)\n",
        "  ax.set_title(title, fontsize=18)  \n",
        "  ax.set_xlabel(\"Czasy postoju pojazdów [min]\", fontsize=15)\n",
        "  ax.set_ylabel(ylabel='Liczba pojazdów', fontsize=15)\n",
        "  ax.xaxis.set_label_coords(0.5,-0.15)"
      ],
      "execution_count": null,
      "outputs": []
    },
    {
      "cell_type": "code",
      "metadata": {
        "id": "d5b_wuQrRu5n"
      },
      "source": [
        "def filter_idle(df, start_time, end_time):\n",
        "  return df.loc[(df['Object Last Frame'] >= start_time * 60) & (df['Object First Frame'] <= end_time * 60) & (df['Object Max Idle'] > 5 )  & (df['Object Max Idle'] < 60 )]\n"
      ],
      "execution_count": null,
      "outputs": []
    },
    {
      "cell_type": "code",
      "metadata": {
        "id": "U8x4AKbHA7z5"
      },
      "source": [
        "def insert_every_two_chars(char,string):\n",
        "  return char.join(a+b for a,b in zip(string[::2], string[1::2]))"
      ],
      "execution_count": null,
      "outputs": []
    },
    {
      "cell_type": "code",
      "metadata": {
        "id": "PjxqlwyJ-_Z1"
      },
      "source": [
        "def extract_day(file):\n",
        "  string_day = file.split('_')[1][2:8]\n",
        "  splitted_string = insert_every_two_chars('-', string_day)\n",
        "  string_array=splitted_string.split('-')\n",
        "  return string_array[2] + '-' + string_array[1] + '-20' + string_array[0]"
      ],
      "execution_count": null,
      "outputs": []
    },
    {
      "cell_type": "code",
      "metadata": {
        "id": "hBcUR9nG_S8B"
      },
      "source": [
        "def extract_hour(file):\n",
        "  string_hour = file.split('T')[1][0:4]\n",
        "  return insert_every_two_chars(':', string_hour)"
      ],
      "execution_count": null,
      "outputs": []
    },
    {
      "cell_type": "code",
      "metadata": {
        "colab": {
          "base_uri": "https://localhost:8080/",
          "height": 51
        },
        "id": "eEWMU68D9u5v",
        "outputId": "1322d2fe-b4cf-44b4-f9f6-469dc92454b7"
      },
      "source": [
        "%cd '/content/gdrive/My Drive/Praca magisterska/statystyki/2021_03_29/grodzka_rynek'\n",
        "%pwd"
      ],
      "execution_count": null,
      "outputs": [
        {
          "name": "stdout",
          "output_type": "stream",
          "text": [
            "/content/gdrive/My Drive/Praca magisterska/statystyki/2021_03_29/grodzka_rynek\n"
          ]
        },
        {
          "data": {
            "application/vnd.google.colaboratory.intrinsic+json": {
              "type": "string"
            },
            "text/plain": [
              "'/content/gdrive/My Drive/Praca magisterska/statystyki/2021_03_29/grodzka_rynek'"
            ]
          },
          "execution_count": 20,
          "metadata": {},
          "output_type": "execute_result"
        }
      ]
    },
    {
      "cell_type": "code",
      "metadata": {
        "colab": {
          "base_uri": "https://localhost:8080/"
        },
        "id": "bFhQvqtWEOh7",
        "outputId": "0739541a-022e-447c-9e80-02867552e6da"
      },
      "source": [
        "%ls | grep csv"
      ],
      "execution_count": null,
      "outputs": [
        {
          "name": "stdout",
          "output_type": "stream",
          "text": [
            "livestream_20210329T060000+0200.csv\n",
            "livestream_20210329T070001+0200.csv\n",
            "livestream_20210329T080000+0200.csv\n",
            "livestream_20210329T090001+0200.csv\n",
            "livestream_20210329T100000+0200.csv\n",
            "livestream_20210329T110001+0200.csv\n"
          ]
        }
      ]
    },
    {
      "cell_type": "code",
      "metadata": {
        "colab": {
          "base_uri": "https://localhost:8080/"
        },
        "id": "Wzgj-jQyBQW2",
        "outputId": "1648b14f-8afa-425e-8040-782678aad51d"
      },
      "source": [
        "file = 'playlist_20210329T070001+0200.csv'\n",
        "print(file)\n",
        "print(extract_day(file))\n",
        "print(extract_hour(file))"
      ],
      "execution_count": null,
      "outputs": [
        {
          "name": "stdout",
          "output_type": "stream",
          "text": [
            "playlist_20210329T070001+0200.csv\n",
            "29-03-2021\n",
            "07:00\n"
          ]
        }
      ]
    },
    {
      "cell_type": "code",
      "metadata": {
        "colab": {
          "base_uri": "https://localhost:8080/"
        },
        "id": "3FSrntVzA0HF",
        "outputId": "85fd8c21-6b1d-4efe-f9aa-7c7122a6a1f1"
      },
      "source": [
        "file = 'livestream_20210329T070001+0200.csv'\n",
        "df = create_df(file)\n",
        "filter_by_exist_time(df,0,60).loc[(df['Class'] == 2) & (df['Object Max Idle'] >= 1)]['Object Max Idle']"
      ],
      "execution_count": null,
      "outputs": [
        {
          "data": {
            "text/plain": [
              "15     3.0\n",
              "29     6.0\n",
              "53     7.0\n",
              "58     1.0\n",
              "65    24.0\n",
              "Name: Object Max Idle, dtype: float64"
            ]
          },
          "execution_count": 22,
          "metadata": {},
          "output_type": "execute_result"
        }
      ]
    },
    {
      "cell_type": "code",
      "metadata": {
        "colab": {
          "base_uri": "https://localhost:8080/",
          "height": 316
        },
        "id": "Dee6PENz-LUc",
        "outputId": "11729065-2ff9-4a53-8c25-04fe23ccae98"
      },
      "source": [
        "file = 'livestream_20210329T070001+0200.csv'\n",
        "df_7 = create_df(file)\n",
        "filter_idle_vehicles(df_7, 0, 60, \"Godzina \"+ extract_hour(file), 35)\n"
      ],
      "execution_count": null,
      "outputs": [
        {
          "data": {
            "image/png": "[encoded data removed]",
            "text/plain": [
              "<Figure size 432x288 with 1 Axes>"
            ]
          },
          "metadata": {},
          "output_type": "display_data"
        }
      ]
    },
    {
      "cell_type": "code",
      "metadata": {
        "colab": {
          "base_uri": "https://localhost:8080/",
          "height": 80
        },
        "id": "-Xo58SQpR8qE",
        "outputId": "6da2c4a6-9f57-4571-d186-be75aca0a94e"
      },
      "source": [
        "file = 'livestream_20210329T100000+0200.csv'\n",
        "df_7 = create_df(file)\n",
        "filter_idle(df_7, 0, 60)"
      ],
      "execution_count": null,
      "outputs": [
        {
          "data": {
            "text/html": [
              "<div>\n",
              "<style scoped>\n",
              "    .dataframe tbody tr th:only-of-type {\n",
              "        vertical-align: middle;\n",
              "    }\n",
              "\n",
              "    .dataframe tbody tr th {\n",
              "        vertical-align: top;\n",
              "    }\n",
              "\n",
              "    .dataframe thead th {\n",
              "        text-align: right;\n",
              "    }\n",
              "</style>\n",
              "<table border=\"1\" class=\"dataframe\">\n",
              "  <thead>\n",
              "    <tr style=\"text-align: right;\">\n",
              "      <th></th>\n",
              "      <th>Object ID</th>\n",
              "      <th>Class</th>\n",
              "      <th>Object First Frame</th>\n",
              "      <th>Object Last Frame</th>\n",
              "      <th>Object Max Idle</th>\n",
              "    </tr>\n",
              "  </thead>\n",
              "  <tbody>\n",
              "    <tr>\n",
              "      <th>110</th>\n",
              "      <td>536</td>\n",
              "      <td>2</td>\n",
              "      <td>2748.0</td>\n",
              "      <td>3253.4</td>\n",
              "      <td>8.37</td>\n",
              "    </tr>\n",
              "  </tbody>\n",
              "</table>\n",
              "</div>"
            ],
            "text/plain": [
              "     Object ID  Class  Object First Frame  Object Last Frame  Object Max Idle\n",
              "110        536      2              2748.0             3253.4             8.37"
            ]
          },
          "execution_count": 16,
          "metadata": {},
          "output_type": "execute_result"
        }
      ]
    },
    {
      "cell_type": "code",
      "metadata": {
        "colab": {
          "base_uri": "https://localhost:8080/",
          "height": 1000
        },
        "id": "_ZQr1gSkZh54",
        "outputId": "dbbf4a2e-7648-46f2-d465-26e98881ba6f"
      },
      "source": [
        "filter_by_exist_time(df, 0, 30)"
      ],
      "execution_count": null,
      "outputs": [
        {
          "data": {
            "text/html": [
              "<div>\n",
              "<style scoped>\n",
              "    .dataframe tbody tr th:only-of-type {\n",
              "        vertical-align: middle;\n",
              "    }\n",
              "\n",
              "    .dataframe tbody tr th {\n",
              "        vertical-align: top;\n",
              "    }\n",
              "\n",
              "    .dataframe thead th {\n",
              "        text-align: right;\n",
              "    }\n",
              "</style>\n",
              "<table border=\"1\" class=\"dataframe\">\n",
              "  <thead>\n",
              "    <tr style=\"text-align: right;\">\n",
              "      <th></th>\n",
              "      <th>Object ID</th>\n",
              "      <th>Class</th>\n",
              "      <th>Object First Frame</th>\n",
              "      <th>Object Last Frame</th>\n",
              "      <th>Object Max Idle</th>\n",
              "    </tr>\n",
              "  </thead>\n",
              "  <tbody>\n",
              "    <tr>\n",
              "      <th>0</th>\n",
              "      <td>80</td>\n",
              "      <td>2</td>\n",
              "      <td>465.8</td>\n",
              "      <td>485.6</td>\n",
              "      <td>0.00</td>\n",
              "    </tr>\n",
              "    <tr>\n",
              "      <th>1</th>\n",
              "      <td>104</td>\n",
              "      <td>2</td>\n",
              "      <td>607.6</td>\n",
              "      <td>609.8</td>\n",
              "      <td>0.00</td>\n",
              "    </tr>\n",
              "    <tr>\n",
              "      <th>2</th>\n",
              "      <td>112</td>\n",
              "      <td>2</td>\n",
              "      <td>677.0</td>\n",
              "      <td>680.4</td>\n",
              "      <td>0.01</td>\n",
              "    </tr>\n",
              "    <tr>\n",
              "      <th>3</th>\n",
              "      <td>125</td>\n",
              "      <td>2</td>\n",
              "      <td>750.6</td>\n",
              "      <td>754.4</td>\n",
              "      <td>0.00</td>\n",
              "    </tr>\n",
              "    <tr>\n",
              "      <th>4</th>\n",
              "      <td>130</td>\n",
              "      <td>2</td>\n",
              "      <td>773.8</td>\n",
              "      <td>780.8</td>\n",
              "      <td>0.04</td>\n",
              "    </tr>\n",
              "    <tr>\n",
              "      <th>5</th>\n",
              "      <td>141</td>\n",
              "      <td>0</td>\n",
              "      <td>874.0</td>\n",
              "      <td>926.2</td>\n",
              "      <td>0.00</td>\n",
              "    </tr>\n",
              "    <tr>\n",
              "      <th>6</th>\n",
              "      <td>168</td>\n",
              "      <td>2</td>\n",
              "      <td>1022.6</td>\n",
              "      <td>1030.8</td>\n",
              "      <td>0.00</td>\n",
              "    </tr>\n",
              "    <tr>\n",
              "      <th>7</th>\n",
              "      <td>178</td>\n",
              "      <td>0</td>\n",
              "      <td>1089.8</td>\n",
              "      <td>1091.6</td>\n",
              "      <td>0.00</td>\n",
              "    </tr>\n",
              "    <tr>\n",
              "      <th>8</th>\n",
              "      <td>186</td>\n",
              "      <td>2</td>\n",
              "      <td>1128.8</td>\n",
              "      <td>1140.2</td>\n",
              "      <td>0.08</td>\n",
              "    </tr>\n",
              "    <tr>\n",
              "      <th>9</th>\n",
              "      <td>209</td>\n",
              "      <td>2</td>\n",
              "      <td>1247.8</td>\n",
              "      <td>1256.8</td>\n",
              "      <td>0.00</td>\n",
              "    </tr>\n",
              "    <tr>\n",
              "      <th>10</th>\n",
              "      <td>217</td>\n",
              "      <td>2</td>\n",
              "      <td>948.2</td>\n",
              "      <td>1319.6</td>\n",
              "      <td>0.00</td>\n",
              "    </tr>\n",
              "    <tr>\n",
              "      <th>11</th>\n",
              "      <td>240</td>\n",
              "      <td>2</td>\n",
              "      <td>1431.4</td>\n",
              "      <td>1436.0</td>\n",
              "      <td>0.00</td>\n",
              "    </tr>\n",
              "    <tr>\n",
              "      <th>12</th>\n",
              "      <td>306</td>\n",
              "      <td>2</td>\n",
              "      <td>177.8</td>\n",
              "      <td>1856.4</td>\n",
              "      <td>0.19</td>\n",
              "    </tr>\n",
              "    <tr>\n",
              "      <th>13</th>\n",
              "      <td>329</td>\n",
              "      <td>0</td>\n",
              "      <td>1209.8</td>\n",
              "      <td>2028.8</td>\n",
              "      <td>0.00</td>\n",
              "    </tr>\n",
              "    <tr>\n",
              "      <th>15</th>\n",
              "      <td>355</td>\n",
              "      <td>2</td>\n",
              "      <td>1199.4</td>\n",
              "      <td>2110.4</td>\n",
              "      <td>0.08</td>\n",
              "    </tr>\n",
              "    <tr>\n",
              "      <th>16</th>\n",
              "      <td>358</td>\n",
              "      <td>0</td>\n",
              "      <td>11.6</td>\n",
              "      <td>2116.0</td>\n",
              "      <td>0.00</td>\n",
              "    </tr>\n",
              "    <tr>\n",
              "      <th>19</th>\n",
              "      <td>370</td>\n",
              "      <td>0</td>\n",
              "      <td>1248.0</td>\n",
              "      <td>2201.0</td>\n",
              "      <td>0.00</td>\n",
              "    </tr>\n",
              "    <tr>\n",
              "      <th>20</th>\n",
              "      <td>377</td>\n",
              "      <td>0</td>\n",
              "      <td>1174.4</td>\n",
              "      <td>2213.0</td>\n",
              "      <td>0.00</td>\n",
              "    </tr>\n",
              "    <tr>\n",
              "      <th>22</th>\n",
              "      <td>393</td>\n",
              "      <td>2</td>\n",
              "      <td>760.4</td>\n",
              "      <td>2335.2</td>\n",
              "      <td>0.09</td>\n",
              "    </tr>\n",
              "    <tr>\n",
              "      <th>23</th>\n",
              "      <td>417</td>\n",
              "      <td>2</td>\n",
              "      <td>187.8</td>\n",
              "      <td>2481.4</td>\n",
              "      <td>0.20</td>\n",
              "    </tr>\n",
              "    <tr>\n",
              "      <th>26</th>\n",
              "      <td>426</td>\n",
              "      <td>0</td>\n",
              "      <td>417.8</td>\n",
              "      <td>2564.6</td>\n",
              "      <td>0.00</td>\n",
              "    </tr>\n",
              "    <tr>\n",
              "      <th>30</th>\n",
              "      <td>465</td>\n",
              "      <td>0</td>\n",
              "      <td>302.2</td>\n",
              "      <td>2832.6</td>\n",
              "      <td>0.00</td>\n",
              "    </tr>\n",
              "    <tr>\n",
              "      <th>33</th>\n",
              "      <td>482</td>\n",
              "      <td>1</td>\n",
              "      <td>77.4</td>\n",
              "      <td>2961.4</td>\n",
              "      <td>0.00</td>\n",
              "    </tr>\n",
              "    <tr>\n",
              "      <th>34</th>\n",
              "      <td>489</td>\n",
              "      <td>2</td>\n",
              "      <td>487.2</td>\n",
              "      <td>2990.6</td>\n",
              "      <td>0.00</td>\n",
              "    </tr>\n",
              "    <tr>\n",
              "      <th>39</th>\n",
              "      <td>504</td>\n",
              "      <td>0</td>\n",
              "      <td>1085.2</td>\n",
              "      <td>3044.2</td>\n",
              "      <td>0.00</td>\n",
              "    </tr>\n",
              "    <tr>\n",
              "      <th>40</th>\n",
              "      <td>507</td>\n",
              "      <td>2</td>\n",
              "      <td>265.4</td>\n",
              "      <td>3041.6</td>\n",
              "      <td>0.10</td>\n",
              "    </tr>\n",
              "    <tr>\n",
              "      <th>42</th>\n",
              "      <td>519</td>\n",
              "      <td>0</td>\n",
              "      <td>1232.2</td>\n",
              "      <td>3099.2</td>\n",
              "      <td>0.00</td>\n",
              "    </tr>\n",
              "    <tr>\n",
              "      <th>47</th>\n",
              "      <td>534</td>\n",
              "      <td>2</td>\n",
              "      <td>417.4</td>\n",
              "      <td>3149.8</td>\n",
              "      <td>0.00</td>\n",
              "    </tr>\n",
              "    <tr>\n",
              "      <th>52</th>\n",
              "      <td>549</td>\n",
              "      <td>2</td>\n",
              "      <td>7.8</td>\n",
              "      <td>3220.0</td>\n",
              "      <td>9.16</td>\n",
              "    </tr>\n",
              "    <tr>\n",
              "      <th>55</th>\n",
              "      <td>564</td>\n",
              "      <td>0</td>\n",
              "      <td>708.8</td>\n",
              "      <td>3284.8</td>\n",
              "      <td>0.00</td>\n",
              "    </tr>\n",
              "    <tr>\n",
              "      <th>56</th>\n",
              "      <td>570</td>\n",
              "      <td>2</td>\n",
              "      <td>504.2</td>\n",
              "      <td>3298.0</td>\n",
              "      <td>0.22</td>\n",
              "    </tr>\n",
              "    <tr>\n",
              "      <th>60</th>\n",
              "      <td>583</td>\n",
              "      <td>0</td>\n",
              "      <td>23.4</td>\n",
              "      <td>3359.8</td>\n",
              "      <td>0.00</td>\n",
              "    </tr>\n",
              "    <tr>\n",
              "      <th>65</th>\n",
              "      <td>606</td>\n",
              "      <td>2</td>\n",
              "      <td>459.4</td>\n",
              "      <td>3467.6</td>\n",
              "      <td>0.00</td>\n",
              "    </tr>\n",
              "    <tr>\n",
              "      <th>66</th>\n",
              "      <td>610</td>\n",
              "      <td>0</td>\n",
              "      <td>1009.2</td>\n",
              "      <td>3481.6</td>\n",
              "      <td>0.00</td>\n",
              "    </tr>\n",
              "    <tr>\n",
              "      <th>69</th>\n",
              "      <td>618</td>\n",
              "      <td>0</td>\n",
              "      <td>1092.8</td>\n",
              "      <td>3521.2</td>\n",
              "      <td>0.00</td>\n",
              "    </tr>\n",
              "    <tr>\n",
              "      <th>73</th>\n",
              "      <td>627</td>\n",
              "      <td>0</td>\n",
              "      <td>978.0</td>\n",
              "      <td>3563.0</td>\n",
              "      <td>0.00</td>\n",
              "    </tr>\n",
              "    <tr>\n",
              "      <th>80</th>\n",
              "      <td>639</td>\n",
              "      <td>0</td>\n",
              "      <td>678.2</td>\n",
              "      <td>3607.8</td>\n",
              "      <td>0.00</td>\n",
              "    </tr>\n",
              "  </tbody>\n",
              "</table>\n",
              "</div>"
            ],
            "text/plain": [
              "    Object ID  Class  Object First Frame  Object Last Frame  Object Max Idle\n",
              "0          80      2               465.8              485.6             0.00\n",
              "1         104      2               607.6              609.8             0.00\n",
              "2         112      2               677.0              680.4             0.01\n",
              "3         125      2               750.6              754.4             0.00\n",
              "4         130      2               773.8              780.8             0.04\n",
              "5         141      0               874.0              926.2             0.00\n",
              "6         168      2              1022.6             1030.8             0.00\n",
              "7         178      0              1089.8             1091.6             0.00\n",
              "8         186      2              1128.8             1140.2             0.08\n",
              "9         209      2              1247.8             1256.8             0.00\n",
              "10        217      2               948.2             1319.6             0.00\n",
              "11        240      2              1431.4             1436.0             0.00\n",
              "12        306      2               177.8             1856.4             0.19\n",
              "13        329      0              1209.8             2028.8             0.00\n",
              "15        355      2              1199.4             2110.4             0.08\n",
              "16        358      0                11.6             2116.0             0.00\n",
              "19        370      0              1248.0             2201.0             0.00\n",
              "20        377      0              1174.4             2213.0             0.00\n",
              "22        393      2               760.4             2335.2             0.09\n",
              "23        417      2               187.8             2481.4             0.20\n",
              "26        426      0               417.8             2564.6             0.00\n",
              "30        465      0               302.2             2832.6             0.00\n",
              "33        482      1                77.4             2961.4             0.00\n",
              "34        489      2               487.2             2990.6             0.00\n",
              "39        504      0              1085.2             3044.2             0.00\n",
              "40        507      2               265.4             3041.6             0.10\n",
              "42        519      0              1232.2             3099.2             0.00\n",
              "47        534      2               417.4             3149.8             0.00\n",
              "52        549      2                 7.8             3220.0             9.16\n",
              "55        564      0               708.8             3284.8             0.00\n",
              "56        570      2               504.2             3298.0             0.22\n",
              "60        583      0                23.4             3359.8             0.00\n",
              "65        606      2               459.4             3467.6             0.00\n",
              "66        610      0              1009.2             3481.6             0.00\n",
              "69        618      0              1092.8             3521.2             0.00\n",
              "73        627      0               978.0             3563.0             0.00\n",
              "80        639      0               678.2             3607.8             0.00"
            ]
          },
          "execution_count": 36,
          "metadata": {
            "tags": []
          },
          "output_type": "execute_result"
        }
      ]
    },
    {
      "cell_type": "code",
      "metadata": {
        "colab": {
          "base_uri": "https://localhost:8080/",
          "height": 315
        },
        "id": "MmFnzOt-ob-r",
        "outputId": "eaa267b4-8d37-444d-9398-ad1fee6f67bb"
      },
      "source": [
        "df_filter_by_exist_time=filter_by_exist_time(df, 0, 30)\n",
        "df_filter_by_exist_time=df_filter_by_exist_time.loc[df_filter_by_exist_time[\"Class\"]==2]\n",
        "df_filter_by_exist_time[[\"Object ID\", \"Object Max Idle\"]].groupby([\"Object Max Idle\"]).count().reset_index().plot(kind = \"bar\", x=\"Object Max Idle\")"
      ],
      "execution_count": null,
      "outputs": [
        {
          "data": {
            "text/plain": [
              "<matplotlib.axes._subplots.AxesSubplot at 0x7f278662c750>"
            ]
          },
          "execution_count": 91,
          "metadata": {
            "tags": []
          },
          "output_type": "execute_result"
        },
        {
          "data": {
            "image/png": "[encoded data removed]",
            "text/plain": [
              "<Figure size 432x288 with 1 Axes>"
            ]
          },
          "metadata": {
            "tags": []
          },
          "output_type": "display_data"
        }
      ]
    },
    {
      "cell_type": "markdown",
      "metadata": {
        "id": "UnVNtD-ir2wN"
      },
      "source": [
        "# Ile % czasu był pojazd zaparkowany podczas, kiedy był widoczny w oku kamery "
      ]
    },
    {
      "cell_type": "code",
      "metadata": {
        "id": "F2dfmnV4jghQ"
      },
      "source": [
        "def adjust_columns_1(df):\n",
        "  df[\"Object Max Idle\"] = round(pd.to_numeric((df[\"Object Max Idle\"]) * 5 / 25) / 60, 2)  \n",
        "  df[\"Object First Frame\"] = round(pd.to_numeric((df[\"Object First Frame\"]) / 25) /60, 2)\n",
        "  df[\"Object Last Frame\"] = round(pd.to_numeric((df[\"Object Last Frame\"]) / 25)/ 60, 2)\n",
        "  df"
      ],
      "execution_count": null,
      "outputs": []
    },
    {
      "cell_type": "code",
      "metadata": {
        "id": "Uop0zYL7jJ_H"
      },
      "source": [
        "def create_df_1(file):\n",
        "  df = pd.read_csv (file)\n",
        "  adjust_columns_1(df)\n",
        "  return df"
      ],
      "execution_count": null,
      "outputs": []
    },
    {
      "cell_type": "code",
      "metadata": {
        "colab": {
          "base_uri": "https://localhost:8080/",
          "height": 80
        },
        "id": "deoAi05hsb5T",
        "outputId": "54f7ba1b-88b9-4a16-efd2-f226a9a586fe"
      },
      "source": [
        "file = 'livestream_20210329T100000+0200.csv'\n",
        "df_7 = create_df_1(file)\n",
        "\n",
        "\n",
        "df_7[\"Idle procent\"] = round(100 * df_7[\"Object Max Idle\"] / (df_7[\"Object Last Frame\"] - df_7[\"Object First Frame\"]), 2)\n",
        "filter_by_class(df_7, 2)\n"
      ],
      "execution_count": null,
      "outputs": [
        {
          "data": {
            "text/html": [
              "<div>\n",
              "<style scoped>\n",
              "    .dataframe tbody tr th:only-of-type {\n",
              "        vertical-align: middle;\n",
              "    }\n",
              "\n",
              "    .dataframe tbody tr th {\n",
              "        vertical-align: top;\n",
              "    }\n",
              "\n",
              "    .dataframe thead th {\n",
              "        text-align: right;\n",
              "    }\n",
              "</style>\n",
              "<table border=\"1\" class=\"dataframe\">\n",
              "  <thead>\n",
              "    <tr style=\"text-align: right;\">\n",
              "      <th></th>\n",
              "      <th>Object ID</th>\n",
              "      <th>Class</th>\n",
              "      <th>Object First Frame</th>\n",
              "      <th>Object Last Frame</th>\n",
              "      <th>Object Max Idle</th>\n",
              "      <th>Idle procent</th>\n",
              "    </tr>\n",
              "  </thead>\n",
              "  <tbody>\n",
              "    <tr>\n",
              "      <th>110</th>\n",
              "      <td>536</td>\n",
              "      <td>2</td>\n",
              "      <td>45.8</td>\n",
              "      <td>54.22</td>\n",
              "      <td>8.37</td>\n",
              "      <td>99.41</td>\n",
              "    </tr>\n",
              "  </tbody>\n",
              "</table>\n",
              "</div>"
            ],
            "text/plain": [
              "     Object ID  Class  ...  Object Max Idle  Idle procent\n",
              "110        536      2  ...             8.37         99.41\n",
              "\n",
              "[1 rows x 6 columns]"
            ]
          },
          "execution_count": 58,
          "metadata": {},
          "output_type": "execute_result"
        }
      ]
    }
  ]
}